{
 "cells": [
  {
   "cell_type": "markdown",
   "id": "arbitrary-receipt",
   "metadata": {},
   "source": [
    "此腳本將存有邊界框的csv檔轉為labelme格式的json檔"
   ]
  },
  {
   "cell_type": "code",
   "execution_count": 2,
   "id": "composed-testing",
   "metadata": {},
   "outputs": [],
   "source": [
    "from PIL import Image\n",
    "from glob import glob\n",
    "import base64\n",
    "import json\n",
    "import csv\n",
    "import io\n",
    "import os"
   ]
  },
  {
   "cell_type": "markdown",
   "id": "narrow-hours",
   "metadata": {},
   "source": [
    "## 功能定義"
   ]
  },
  {
   "cell_type": "code",
   "execution_count": 14,
   "id": "inclusive-adrian",
   "metadata": {},
   "outputs": [],
   "source": [
    "def img_data_to_b64(img_pil, format=\"JPEG\"):\n",
    "    f = io.BytesIO()\n",
    "    img_pil.save(f, format)\n",
    "    img_bin = f.getvalue()\n",
    "    if hasattr(base64, \"encodebytes\"):\n",
    "        img_b64 = base64.encodebytes(img_bin)\n",
    "    else:\n",
    "        img_b64 = base64.encodestring(img_bin)\n",
    "    return img_b64\n",
    "\n",
    "\n",
    "def create_dir(dir_path):\n",
    "    if dir_path != '':\n",
    "        if dir_path[-1] == '/':\n",
    "            dir_path += '/'\n",
    "        try:\n",
    "            os.mkdir(dir_path)\n",
    "        except:\n",
    "            pass\n",
    "    \n",
    "    \n",
    "def anno_to_labelme(anno_csv, img_dir, out_dir):\n",
    "    create_dir(out_dir)\n",
    "\n",
    "    # read bbox csv file\n",
    "    anno_list = []\n",
    "    with open(anno_csv) as csvfile:\n",
    "        rows = csv.reader(csvfile)\n",
    "        next(rows)\n",
    "        for row in rows:\n",
    "            anno_list.append(row)\n",
    "\n",
    "    # create image list\n",
    "    shape_dic = dict()\n",
    "    for anno in anno_list:\n",
    "        img_name = anno[0]\n",
    "        shape_dic[img_name] = []\n",
    "\n",
    "    # save shapes into shape dic\n",
    "    for bbox in anno_list:\n",
    "        # create shape template\n",
    "        shape = dict(\n",
    "            label=None,\n",
    "            points=None,\n",
    "            group_id=None,\n",
    "            shape_type='rectangle',\n",
    "            flags={}\n",
    "            )\n",
    "\n",
    "        img_name = bbox[0]\n",
    "        float_point = [float(n) for n in bbox[1:5]]\n",
    "        points = [float_point[0:2], float_point[2:4]]\n",
    "        # save point and label to shape\n",
    "        shape['label'] = bbox[5]\n",
    "        shape['points'] = points\n",
    "        # save shape to dic\n",
    "        shape_dic[img_name].append(shape)\n",
    "\n",
    "    # save labelme file\n",
    "    for img_name in shape_dic.keys():\n",
    "        # read and encode image\n",
    "        img_path = img_dir + img_name  # path\n",
    "        img = Image.open(img_path)  # open with PIL\n",
    "        img_b64 = img_data_to_b64(img)  # encode\n",
    "        img_b64_utf8 = img_b64.decode('utf-8')  # decode to utf8\n",
    "\n",
    "        # create data container\n",
    "        data = dict(\n",
    "                    version='4.5.7',\n",
    "                    flags={},\n",
    "                    shapes=shape_dic[img_name],\n",
    "                    imagePath=img_name,\n",
    "                    imageData=img_b64_utf8,\n",
    "                    imageHeight=img.size[1],\n",
    "                    imageWidth=img.size[0],\n",
    "                )\n",
    "\n",
    "        # save as json file\n",
    "        json_path = out_dir + os.path.splitext(img_name)[0] + '.json'\n",
    "        with open(json_path, 'w') as jsonfile:\n",
    "            json.dump(data, jsonfile, ensure_ascii=False, indent=2)"
   ]
  },
  {
   "cell_type": "code",
   "execution_count": 9,
   "id": "burning-trauma",
   "metadata": {},
   "outputs": [
    {
     "data": {
      "text/plain": [
       "['../../peter/data_temp/bbt_sample_class_5',\n",
       " '../../peter/data_temp/bbt_sample_class_2',\n",
       " '../../peter/data_temp/bbt_sample_class_3']"
      ]
     },
     "execution_count": 9,
     "metadata": {},
     "output_type": "execute_result"
    }
   ],
   "source": [
    "glob('../../peter/data_temp/*')"
   ]
  },
  {
   "cell_type": "markdown",
   "id": "cellular-firewall",
   "metadata": {},
   "source": [
    "## 單檔案輸出測試"
   ]
  },
  {
   "cell_type": "code",
   "execution_count": 15,
   "id": "multiple-button",
   "metadata": {},
   "outputs": [],
   "source": [
    "anno_csv = glob('../../peter/data_temp/bbt_sample_class_5/*.csv')[6]\n",
    "img_dir = '../../peter/data_temp/bbt_sample_class_5/'\n",
    "out_dir = 'labelme_test'\n",
    "\n",
    "anno_to_labelme(anno_csv, img_dir, out_dir)"
   ]
  },
  {
   "cell_type": "markdown",
   "id": "peaceful-insulin",
   "metadata": {},
   "source": [
    "## 多檔案輸出"
   ]
  },
  {
   "cell_type": "code",
   "execution_count": 17,
   "id": "fallen-partner",
   "metadata": {},
   "outputs": [
    {
     "name": "stdout",
     "output_type": "stream",
     "text": [
      "[Progress]:[██████████████████████████████] 100.0%\n",
      "Done\n"
     ]
    }
   ],
   "source": [
    "anno_csv_list = glob('../../peter/data_temp/bbt_sample_class_5/*.csv')\n",
    "img_dir = '../../peter/data_temp/bbt_sample_class_5/'\n",
    "out_dir = '../../peter/data_temp/bbt_sample_class_5/labelme/'\n",
    "\n",
    "\n",
    "total = len(anno_csv_list)\n",
    "prgrs = 0\n",
    "for anno_csv in anno_csv_list:\n",
    "    anno_to_labelme(anno_csv, img_dir, out_dir)\n",
    "    prgrs += 1\n",
    "    print('\\r[Progress]:[{:<30s}] {:5.1f}%'.format('█'*int(prgrs*30/total), \n",
    "                                                   prgrs/total*100), end='')\n",
    "    \n",
    "print('\\nDone')"
   ]
  }
 ],
 "metadata": {
  "kernelspec": {
   "display_name": "Python 3",
   "language": "python",
   "name": "python3"
  },
  "language_info": {
   "codemirror_mode": {
    "name": "ipython",
    "version": 3
   },
   "file_extension": ".py",
   "mimetype": "text/x-python",
   "name": "python",
   "nbconvert_exporter": "python",
   "pygments_lexer": "ipython3",
   "version": "3.7.9"
  }
 },
 "nbformat": 4,
 "nbformat_minor": 5
}
