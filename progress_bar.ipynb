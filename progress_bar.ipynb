{
  "nbformat": 4,
  "nbformat_minor": 0,
  "metadata": {
    "colab": {
      "name": "progress_bar.ipynb",
      "provenance": [],
      "collapsed_sections": [],
      "authorship_tag": "ABX9TyOmOfXK8RxaxUvl2pt2lMrd",
      "include_colab_link": true
    },
    "kernelspec": {
      "name": "python3",
      "display_name": "Python 3"
    }
  },
  "cells": [
    {
      "cell_type": "markdown",
      "metadata": {
        "id": "view-in-github",
        "colab_type": "text"
      },
      "source": [
        "<a href=\"https://colab.research.google.com/github/panghanwu/python_tools/blob/main/progress_bar.ipynb\" target=\"_parent\"><img src=\"https://colab.research.google.com/assets/colab-badge.svg\" alt=\"Open In Colab\"/></a>"
      ]
    },
    {
      "cell_type": "code",
      "metadata": {
        "id": "dJXnsN6h5RqN",
        "outputId": "fa388731-edb9-46a6-f557-e96b780ef7c3",
        "colab": {
          "base_uri": "https://localhost:8080/"
        }
      },
      "source": [
        "import time\n",
        "\n",
        "total = 10\n",
        "pgs = 0\n",
        "for n in range(total):\n",
        "\n",
        "  time.sleep(0.5)\n",
        "\n",
        "  pgs += 1\n",
        "  print('\\r' + '[Progress]:[%s%s]%.2f%%' % ('█' * int(pgs*20/total), \n",
        "        ' ' * (20-int(pgs*20/total)),\n",
        "        float(pgs/total*100)), end='')\n",
        "  \n"
      ],
      "execution_count": 3,
      "outputs": [
        {
          "output_type": "stream",
          "text": [
            "[Progress]:[████████████████████]100.00%"
          ],
          "name": "stdout"
        }
      ]
    },
    {
      "cell_type": "code",
      "metadata": {
        "id": "wKb59si06hjQ",
        "outputId": "6d7fc3ae-bd18-4cd5-802b-39d61c2f3a66",
        "colab": {
          "base_uri": "https://localhost:8080/"
        }
      },
      "source": [
        "total = 100\n",
        "pgs = 0\n",
        "for n in range(total):\n",
        "\n",
        "  time.sleep(0.05)\n",
        "\n",
        "  pgs += 1\n",
        "  print('\\r' + '[Progress]:[%s%s]%.2f%%' % ('█' * int(pgs*30/total), \n",
        "        ' ' * (30-int(pgs*30/total)),\n",
        "        float(pgs/total*100)), end='')\n",
        "  \n"
      ],
      "execution_count": 4,
      "outputs": [
        {
          "output_type": "stream",
          "text": [
            "[Progress]:[██████████████████████████████]100.00%"
          ],
          "name": "stdout"
        }
      ]
    }
  ]
}