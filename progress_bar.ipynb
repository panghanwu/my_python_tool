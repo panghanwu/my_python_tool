{
 "cells": [
  {
   "cell_type": "markdown",
   "metadata": {},
   "source": [
    "Version 1"
   ]
  },
  {
   "cell_type": "code",
   "execution_count": 1,
   "metadata": {},
   "outputs": [],
   "source": [
    "def show_progress(progress, total, title='Progress'):\n",
    "    progress += 1\n",
    "    print(\n",
    "        '[{}]:[{:<30s}] {:5.1f}%'.format(\n",
    "            title,\n",
    "            '█'*int(progress*30/total), \n",
    "            progress/total*100\n",
    "            ), \n",
    "        end='\\r'\n",
    "    )\n",
    "    \n",
    "    if progress == total:\n",
    "        print()\n",
    "    return progress"
   ]
  },
  {
   "cell_type": "code",
   "execution_count": 2,
   "metadata": {},
   "outputs": [
    {
     "name": "stdout",
     "output_type": "stream",
     "text": [
      "[Progress]:[██████████████████████████████] 100.0%\n"
     ]
    }
   ],
   "source": [
    "# example\n",
    "import time\n",
    "\n",
    "total = 100\n",
    "prgrs = 0\n",
    "\n",
    "for i in range(total):\n",
    "    prgrs = show_progress(prgrs, total, title='Progress')\n",
    "    ### script area\n",
    "    time.sleep(0.05)\n",
    "    ###"
   ]
  },
  {
   "cell_type": "markdown",
   "metadata": {},
   "source": [
    "Version 0"
   ]
  },
  {
   "cell_type": "code",
   "execution_count": 3,
   "metadata": {},
   "outputs": [
    {
     "name": "stdout",
     "output_type": "stream",
     "text": [
      "[Progress]:[██████████████████████████████] 100.0%"
     ]
    }
   ],
   "source": [
    "import time\n",
    "\n",
    "total = 100\n",
    "prgrs = 0\n",
    "\n",
    "for n in range(total):\n",
    "    # show progress\n",
    "    prgrs += 1\n",
    "    print(\n",
    "        '\\r[Progress]:[{:<30s}] {:5.1f}%'.format(\n",
    "            '█'*int(prgrs*30/total), \n",
    "            prgrs/total*100\n",
    "        ), \n",
    "        end=''\n",
    "    )\n",
    "    \n",
    "    ### script area\n",
    "    time.sleep(0.05)\n",
    "    ###"
   ]
  }
 ],
 "metadata": {
  "kernelspec": {
   "display_name": "Python 3",
   "language": "python",
   "name": "python3"
  },
  "language_info": {
   "codemirror_mode": {
    "name": "ipython",
    "version": 3
   },
   "file_extension": ".py",
   "mimetype": "text/x-python",
   "name": "python",
   "nbconvert_exporter": "python",
   "pygments_lexer": "ipython3",
   "version": "3.7.9"
  }
 },
 "nbformat": 4,
 "nbformat_minor": 4
}
