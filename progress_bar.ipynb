{
  "nbformat": 4,
  "nbformat_minor": 0,
  "metadata": {
    "colab": {
      "name": "progress_bar.ipynb",
      "provenance": [],
      "collapsed_sections": [],
      "authorship_tag": "ABX9TyN2DbD6v1ENJ92anMkfNL3F",
      "include_colab_link": true
    },
    "kernelspec": {
      "name": "python3",
      "display_name": "Python 3"
    }
  },
  "cells": [
    {
      "cell_type": "markdown",
      "metadata": {
        "id": "view-in-github",
        "colab_type": "text"
      },
      "source": [
        "<a href=\"https://colab.research.google.com/github/panghanwu/python_tools/blob/main/progress_bar.ipynb\" target=\"_parent\"><img src=\"https://colab.research.google.com/assets/colab-badge.svg\" alt=\"Open In Colab\"/></a>"
      ]
    },
    {
      "cell_type": "code",
      "metadata": {
        "id": "dJXnsN6h5RqN",
        "outputId": "a9f2337a-ec65-452b-91ff-62a645f0ccff",
        "colab": {
          "base_uri": "https://localhost:8080/"
        }
      },
      "source": [
        "import time\n",
        "\n",
        "total = 10\n",
        "pgs = 0\n",
        "for n in range(total):\n",
        "\n",
        "  time.sleep(1)\n",
        "\n",
        "  pgs += 1\n",
        "  print('\\r' + '[Progress]:[%s%s]%.2f%%' % (\n",
        "      '█' * int(pgs*20/total), '  ' * (20-int(pgs*20/total)),\n",
        "      float(pgs/total*100)), end='')\n",
        "  \n"
      ],
      "execution_count": null,
      "outputs": [
        {
          "output_type": "stream",
          "text": [
            "[Progress]:[████████████████████]100.00%"
          ],
          "name": "stdout"
        }
      ]
    },
    {
      "cell_type": "code",
      "metadata": {
        "id": "wKb59si06hjQ",
        "outputId": "f5c31dac-37b7-4a11-c2ab-d0c61125370f",
        "colab": {
          "base_uri": "https://localhost:8080/"
        }
      },
      "source": [
        "total = 100\n",
        "pgs = 0\n",
        "for n in range(total):\n",
        "\n",
        "  time.sleep(0.05)\n",
        "\n",
        "  pgs += 1\n",
        "  print('\\r' + '[Progress]:[%s%s]%.2f%%' % (\n",
        "      '█' * int(pgs*30/total), '  ' * (30-int(pgs*30/total)),\n",
        "      float(pgs/total*100)), end='')\n",
        "  \n"
      ],
      "execution_count": null,
      "outputs": [
        {
          "output_type": "stream",
          "text": [
            "[Progress]:[██████████████████████████████]100.00%"
          ],
          "name": "stdout"
        }
      ]
    }
  ]
}